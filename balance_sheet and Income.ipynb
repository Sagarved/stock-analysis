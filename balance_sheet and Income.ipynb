{
 "cells": [
  {
   "cell_type": "code",
   "execution_count": 9,
   "id": "8b9c14bd",
   "metadata": {},
   "outputs": [],
   "source": [
    "import pandas as pd\n",
    "import yfinance as yf"
   ]
  },
  {
   "cell_type": "code",
   "execution_count": 10,
   "id": "d1890059",
   "metadata": {},
   "outputs": [],
   "source": [
    "ticker_name = 'AAPL'"
   ]
  },
  {
   "cell_type": "code",
   "execution_count": null,
   "id": "cc153f9b",
   "metadata": {},
   "outputs": [],
   "source": []
  },
  {
   "cell_type": "code",
   "execution_count": 11,
   "id": "b0b2db26",
   "metadata": {},
   "outputs": [
    {
     "ename": "AttributeError",
     "evalue": "'Ticker' object has no attribute 'income_stmt'",
     "output_type": "error",
     "traceback": [
      "\u001b[0;31m---------------------------------------------------------------------------\u001b[0m",
      "\u001b[0;31mAttributeError\u001b[0m                            Traceback (most recent call last)",
      "Cell \u001b[0;32mIn [11], line 2\u001b[0m\n\u001b[1;32m      1\u001b[0m corp \u001b[38;5;241m=\u001b[39m yf\u001b[38;5;241m.\u001b[39mTicker(ticker_name)\n\u001b[0;32m----> 2\u001b[0m income \u001b[38;5;241m=\u001b[39m \u001b[43mcorp\u001b[49m\u001b[38;5;241;43m.\u001b[39;49m\u001b[43mincome_stmt\u001b[49m\n",
      "\u001b[0;31mAttributeError\u001b[0m: 'Ticker' object has no attribute 'income_stmt'"
     ]
    }
   ],
   "source": [
    "corp = yf.Ticker(ticker_name)\n",
    "income = corp.income_stmt"
   ]
  },
  {
   "cell_type": "code",
   "execution_count": null,
   "id": "a1404238",
   "metadata": {},
   "outputs": [],
   "source": [
    "income = income.dropna()\n",
    "income"
   ]
  },
  {
   "cell_type": "code",
   "execution_count": null,
   "id": "776d34d2",
   "metadata": {},
   "outputs": [],
   "source": [
    "income = income.T"
   ]
  },
  {
   "cell_type": "code",
   "execution_count": null,
   "id": "15d7cfb1",
   "metadata": {},
   "outputs": [],
   "source": [
    "income"
   ]
  },
  {
   "cell_type": "markdown",
   "id": "9bc7e33b",
   "metadata": {},
   "source": [
    "#### Getting all valuable entries from Income_Statement #### "
   ]
  },
  {
   "cell_type": "code",
   "execution_count": null,
   "id": "6cc35592",
   "metadata": {},
   "outputs": [],
   "source": [
    "# Sales/Revenue,COGS, EBIT, Interest, Taxes, NetIncome\n",
    "income = income[['totalRevenue','costOfRevenue', 'ebit', 'totalOtherIncomeExpenseNet', 'incomeBeforeTax','incomeTaxExpense', 'netIncome']]#, axis=1 )\n",
    "income"
   ]
  },
  {
   "cell_type": "code",
   "execution_count": null,
   "id": "03c26585",
   "metadata": {},
   "outputs": [],
   "source": [
    "income"
   ]
  },
  {
   "cell_type": "markdown",
   "id": "905eacc5",
   "metadata": {},
   "source": [
    "#### Updating Column Names ####"
   ]
  },
  {
   "cell_type": "code",
   "execution_count": null,
   "id": "2ab70c72",
   "metadata": {},
   "outputs": [],
   "source": [
    "income.columns = ['TotalRevenue','COGS', 'EBIT', 'Interest', 'IncomeBeforeTax',\n",
    "       'IncomeTaxExpense', 'NetIncome']\n",
    "income"
   ]
  },
  {
   "cell_type": "code",
   "execution_count": null,
   "id": "fa124cef",
   "metadata": {},
   "outputs": [],
   "source": [
    "data = yf.Ticker(ticker_name)"
   ]
  },
  {
   "cell_type": "code",
   "execution_count": null,
   "id": "4a3b7705",
   "metadata": {},
   "outputs": [],
   "source": [
    "balance = data.balance_sheet"
   ]
  },
  {
   "cell_type": "code",
   "execution_count": null,
   "id": "0bb46269",
   "metadata": {},
   "outputs": [],
   "source": [
    "#balance = balance.dropna()\n",
    "balance.index\n",
    "balance"
   ]
  },
  {
   "cell_type": "code",
   "execution_count": null,
   "id": "e3d6c60c",
   "metadata": {},
   "outputs": [],
   "source": [
    "balance = balance.T"
   ]
  },
  {
   "cell_type": "code",
   "execution_count": null,
   "id": "c25788f4",
   "metadata": {},
   "outputs": [],
   "source": [
    "# current assets, current liability, inventory\n",
    "# Account Receivable, Net Fixed Assets, debt\n",
    "# Total Assets, Total Liability, Total Stockholder Equity\n",
    "balance = balance[['Inventory','Net Receivables','Cash','Total Current Assets',\\\n",
    "                   'Short Long Term Debt', 'Long Term Debt','Net Tangible Assets','Total Assets'\\\n",
    "                  ,'Total Current Liabilities', 'Total Liab','Total Stockholder Equity']]"
   ]
  },
  {
   "cell_type": "code",
   "execution_count": null,
   "id": "4733a9cf",
   "metadata": {},
   "outputs": [],
   "source": [
    "balance.columns"
   ]
  },
  {
   "cell_type": "markdown",
   "id": "3908b6f0",
   "metadata": {},
   "source": [
    "#### Balance sheet data captured ####"
   ]
  },
  {
   "cell_type": "markdown",
   "id": "99ee2611",
   "metadata": {},
   "source": [
    "# current assets, current liability, inventory\n",
    "# Account Receivable, Net Fixed Assets\n",
    "# Total Assets, Total Liability, Common Equity\n",
    "\n",
    "balance = balance[['Total Current Assets','Total Current Liabilities',\\\n",
    "                  'Inventory','Net Receivables','Net Tangible Assets',\\\n",
    "                   'Total Assets', 'Total Liab', 'Total Stockholder Equity'\n",
    "                  ]]"
   ]
  },
  {
   "cell_type": "code",
   "execution_count": null,
   "id": "1fb52885",
   "metadata": {},
   "outputs": [],
   "source": [
    "balance"
   ]
  },
  {
   "cell_type": "code",
   "execution_count": null,
   "id": "268a5b86",
   "metadata": {},
   "outputs": [],
   "source": [
    "pd.set_option('display.max_columns', 5000)"
   ]
  },
  {
   "cell_type": "code",
   "execution_count": null,
   "id": "bcef86ca",
   "metadata": {},
   "outputs": [],
   "source": [
    "d1 = pd.concat([balance, income], axis=1)"
   ]
  },
  {
   "cell_type": "code",
   "execution_count": null,
   "id": "63e01645",
   "metadata": {},
   "outputs": [],
   "source": [
    "d1"
   ]
  },
  {
   "cell_type": "markdown",
   "id": "b4c9da95",
   "metadata": {},
   "source": [
    "d1.isna().sum()\n",
    "\n"
   ]
  },
  {
   "cell_type": "code",
   "execution_count": null,
   "id": "50a59a52",
   "metadata": {},
   "outputs": [],
   "source": [
    "ratio = pd.DataFrame()"
   ]
  },
  {
   "cell_type": "code",
   "execution_count": null,
   "id": "3dc51fa4",
   "metadata": {},
   "outputs": [],
   "source": [
    "# Quick Ratio = Current Assets/Current Liabilities\n",
    "ratio['Current Ratio'] = d1['Total Current Assets']/d1['Total Current Liabilities']\n",
    "ratio"
   ]
  },
  {
   "cell_type": "code",
   "execution_count": null,
   "id": "e4fe3e57",
   "metadata": {},
   "outputs": [],
   "source": [
    "# Quick Ratio = [Current Assets - Inventory]/ Current Liability\n",
    "ratio['Quick Ratio'] = (d1['Total Current Assets'] - d1['Inventory'])/d1['Total Current Liabilities']\n",
    "ratio"
   ]
  },
  {
   "cell_type": "code",
   "execution_count": null,
   "id": "4ad92ec7",
   "metadata": {},
   "outputs": [],
   "source": [
    "# Duration of Sales Operation\n",
    "ratio['DSO'] = d1['Net Receivables']/(d1['TotalRevenue']/365)\n",
    "ratio"
   ]
  },
  {
   "cell_type": "code",
   "execution_count": null,
   "id": "f1ee7a9e",
   "metadata": {},
   "outputs": [],
   "source": [
    "#Inventory Turnover\n",
    "ratio['Inventory Turnover'] = d1['COGS']/d1['Inventory']\n",
    "ratio"
   ]
  },
  {
   "cell_type": "code",
   "execution_count": null,
   "id": "800c0332",
   "metadata": {},
   "outputs": [],
   "source": [
    "# Total Assets Turnover\n",
    "ratio['Total Assets Turnover'] = d1['TotalRevenue']/d1['Total Assets']\n",
    "ratio"
   ]
  },
  {
   "cell_type": "code",
   "execution_count": null,
   "id": "a35810fa",
   "metadata": {},
   "outputs": [],
   "source": [
    "# Debt Ratio = (Short Long Term Deb + Long Term Debt + notes payable)/  Short Long Term Deb \\\n",
    "#+ Long Term Debt + notes payable+ common equity\n",
    "# debt/debt+equity\n",
    "d1['Debt'] = d1['Short Long Term Debt'] + d1['Long Term Debt']\n",
    "ratio['Debt Ratio'] = d1['Debt']/(d1['Debt'] + d1['Total Stockholder Equity'])\n",
    "ratio"
   ]
  },
  {
   "cell_type": "code",
   "execution_count": null,
   "id": "7692ca45",
   "metadata": {},
   "outputs": [],
   "source": [
    "d1"
   ]
  },
  {
   "cell_type": "code",
   "execution_count": null,
   "id": "addb16a9",
   "metadata": {},
   "outputs": [],
   "source": [
    "# Times Interest Earned = EBIT/Interest\n",
    "ratio['TIE'] = d1['EBIT']/d1['Interest']\n",
    "ratio"
   ]
  },
  {
   "cell_type": "code",
   "execution_count": null,
   "id": "04684fc3",
   "metadata": {},
   "outputs": [],
   "source": [
    "#Gross Profit Margin = EBIT/Sales\n",
    "ratio['GPM%'] = 100*d1['EBIT']/d1['TotalRevenue']\n",
    "ratio"
   ]
  },
  {
   "cell_type": "code",
   "execution_count": null,
   "id": "81f657ed",
   "metadata": {},
   "outputs": [],
   "source": [
    "#Net Profit Margin = net profit/Sales\n",
    "ratio['NPM%'] = 100*d1['NetIncome']/d1['TotalRevenue']\n",
    "ratio"
   ]
  },
  {
   "cell_type": "code",
   "execution_count": null,
   "id": "2c9d0304",
   "metadata": {},
   "outputs": [],
   "source": [
    "# Return on Total Assets = NetIncome/Assets\n",
    "ratio['ROA%'] = 100*d1['NetIncome']/d1['Total Assets']\n",
    "ratio"
   ]
  },
  {
   "cell_type": "code",
   "execution_count": null,
   "id": "2abd1e4b",
   "metadata": {},
   "outputs": [],
   "source": [
    "#DuPont Analysis ROE = Net Profit/Common Equity\n",
    "ratio['ROE%'] = 100*d1['NetIncome']/d1['Total Stockholder Equity']\n",
    "ratio"
   ]
  },
  {
   "cell_type": "code",
   "execution_count": null,
   "id": "48fd4a3d",
   "metadata": {},
   "outputs": [],
   "source": [
    "ratio"
   ]
  },
  {
   "cell_type": "code",
   "execution_count": null,
   "id": "23a57244",
   "metadata": {},
   "outputs": [],
   "source": [
    "ratio.to_csv\n"
   ]
  }
 ],
 "metadata": {
  "kernelspec": {
   "display_name": "Python 3 (ipykernel)",
   "language": "python",
   "name": "python3"
  },
  "language_info": {
   "codemirror_mode": {
    "name": "ipython",
    "version": 3
   },
   "file_extension": ".py",
   "mimetype": "text/x-python",
   "name": "python",
   "nbconvert_exporter": "python",
   "pygments_lexer": "ipython3",
   "version": "3.10.8"
  }
 },
 "nbformat": 4,
 "nbformat_minor": 5
}
