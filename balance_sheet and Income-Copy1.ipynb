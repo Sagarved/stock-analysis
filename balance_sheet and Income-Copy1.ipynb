{
 "cells": [
  {
   "cell_type": "code",
   "execution_count": 1,
   "id": "8b9c14bd",
   "metadata": {},
   "outputs": [],
   "source": [
    "import pandas as pd\n",
    "import yahoo_fin.stock_info as si\n",
    "import yfinance as yf"
   ]
  },
  {
   "cell_type": "code",
   "execution_count": 2,
   "id": "d1890059",
   "metadata": {},
   "outputs": [],
   "source": [
    "ticker_name = 'MSFT'"
   ]
  },
  {
   "cell_type": "code",
   "execution_count": 3,
   "id": "d7a45a58",
   "metadata": {},
   "outputs": [
    {
     "name": "stdout",
     "output_type": "stream",
     "text": [
      "Requirement already satisfied: yfinance in ./lib/python3.10/site-packages (0.2.12)\n",
      "Collecting yfinance\n",
      "  Downloading yfinance-0.2.18-py2.py3-none-any.whl (60 kB)\n",
      "\u001b[2K     \u001b[90m━━━━━━━━━━━━━━━━━━━━━━━━━━━━━━━━━━━━━━━\u001b[0m \u001b[32m60.3/60.3 kB\u001b[0m \u001b[31m822.4 kB/s\u001b[0m eta \u001b[36m0:00:00\u001b[0m \u001b[36m0:00:01\u001b[0m\n",
      "\u001b[?25hRequirement already satisfied: beautifulsoup4>=4.11.1 in ./lib/python3.10/site-packages (from yfinance) (4.11.1)\n",
      "Requirement already satisfied: numpy>=1.16.5 in ./lib/python3.10/site-packages (from yfinance) (1.23.5)\n",
      "Requirement already satisfied: multitasking>=0.0.7 in ./lib/python3.10/site-packages (from yfinance) (0.0.11)\n",
      "Requirement already satisfied: pandas>=1.3.0 in ./lib/python3.10/site-packages (from yfinance) (1.5.1)\n",
      "Requirement already satisfied: lxml>=4.9.1 in ./lib/python3.10/site-packages (from yfinance) (4.9.1)\n",
      "Requirement already satisfied: cryptography>=3.3.2 in ./lib/python3.10/site-packages (from yfinance) (39.0.1)\n",
      "Requirement already satisfied: pytz>=2022.5 in ./lib/python3.10/site-packages (from yfinance) (2022.6)\n",
      "Requirement already satisfied: requests>=2.26 in ./lib/python3.10/site-packages (from yfinance) (2.28.1)\n",
      "Requirement already satisfied: html5lib>=1.1 in ./lib/python3.10/site-packages (from yfinance) (1.1)\n",
      "Requirement already satisfied: appdirs>=1.4.4 in ./lib/python3.10/site-packages (from yfinance) (1.4.4)\n",
      "Requirement already satisfied: frozendict>=2.3.4 in ./lib/python3.10/site-packages (from yfinance) (2.3.5)\n",
      "Requirement already satisfied: soupsieve>1.2 in ./lib/python3.10/site-packages (from beautifulsoup4>=4.11.1->yfinance) (2.3.2.post1)\n",
      "Requirement already satisfied: cffi>=1.12 in ./lib/python3.10/site-packages (from cryptography>=3.3.2->yfinance) (1.15.1)\n",
      "Requirement already satisfied: six>=1.9 in ./lib/python3.10/site-packages (from html5lib>=1.1->yfinance) (1.16.0)\n",
      "Requirement already satisfied: webencodings in ./lib/python3.10/site-packages (from html5lib>=1.1->yfinance) (0.5.1)\n",
      "Requirement already satisfied: python-dateutil>=2.8.1 in ./lib/python3.10/site-packages (from pandas>=1.3.0->yfinance) (2.8.2)\n",
      "Requirement already satisfied: certifi>=2017.4.17 in ./lib/python3.10/site-packages (from requests>=2.26->yfinance) (2022.9.24)\n",
      "Requirement already satisfied: idna<4,>=2.5 in ./lib/python3.10/site-packages (from requests>=2.26->yfinance) (3.4)\n",
      "Requirement already satisfied: urllib3<1.27,>=1.21.1 in ./lib/python3.10/site-packages (from requests>=2.26->yfinance) (1.26.12)\n",
      "Requirement already satisfied: charset-normalizer<3,>=2 in ./lib/python3.10/site-packages (from requests>=2.26->yfinance) (2.1.1)\n",
      "Requirement already satisfied: pycparser in ./lib/python3.10/site-packages (from cffi>=1.12->cryptography>=3.3.2->yfinance) (2.21)\n",
      "Installing collected packages: yfinance\n",
      "  Attempting uninstall: yfinance\n",
      "    Found existing installation: yfinance 0.2.12\n",
      "    Uninstalling yfinance-0.2.12:\n",
      "      Successfully uninstalled yfinance-0.2.12\n",
      "Successfully installed yfinance-0.2.18\n",
      "\n",
      "\u001b[1m[\u001b[0m\u001b[34;49mnotice\u001b[0m\u001b[1;39;49m]\u001b[0m\u001b[39;49m A new release of pip is available: \u001b[0m\u001b[31;49m23.0.1\u001b[0m\u001b[39;49m -> \u001b[0m\u001b[32;49m23.1\u001b[0m\n",
      "\u001b[1m[\u001b[0m\u001b[34;49mnotice\u001b[0m\u001b[1;39;49m]\u001b[0m\u001b[39;49m To update, run: \u001b[0m\u001b[32;49mpip install --upgrade pip\u001b[0m\n"
     ]
    }
   ],
   "source": [
    "!pip install --upgrade yfinance"
   ]
  },
  {
   "cell_type": "code",
   "execution_count": 3,
   "id": "222ed53e",
   "metadata": {},
   "outputs": [
    {
     "ename": "Exception",
     "evalue": "yfinance failed to decrypt Yahoo data response",
     "output_type": "error",
     "traceback": [
      "\u001b[0;31m---------------------------------------------------------------------------\u001b[0m",
      "\u001b[0;31mException\u001b[0m                                 Traceback (most recent call last)",
      "Cell \u001b[0;32mIn [3], line 3\u001b[0m\n\u001b[1;32m      1\u001b[0m \u001b[38;5;66;03m#si.get_income_statement(ticker_name)\u001b[39;00m\n\u001b[1;32m      2\u001b[0m corp \u001b[38;5;241m=\u001b[39m yf\u001b[38;5;241m.\u001b[39mTicker(ticker_name)\n\u001b[0;32m----> 3\u001b[0m income \u001b[38;5;241m=\u001b[39m \u001b[43mcorp\u001b[49m\u001b[38;5;241;43m.\u001b[39;49m\u001b[43mbalance_sheet\u001b[49m\n",
      "File \u001b[0;32m~/Downloads/finance/lib/python3.10/site-packages/yfinance/ticker.py:182\u001b[0m, in \u001b[0;36mTicker.balance_sheet\u001b[0;34m(self)\u001b[0m\n\u001b[1;32m    180\u001b[0m \u001b[38;5;129m@property\u001b[39m\n\u001b[1;32m    181\u001b[0m \u001b[38;5;28;01mdef\u001b[39;00m \u001b[38;5;21mbalance_sheet\u001b[39m(\u001b[38;5;28mself\u001b[39m) \u001b[38;5;241m-\u001b[39m\u001b[38;5;241m>\u001b[39m _pd\u001b[38;5;241m.\u001b[39mDataFrame:\n\u001b[0;32m--> 182\u001b[0m     \u001b[38;5;28;01mreturn\u001b[39;00m \u001b[38;5;28;43mself\u001b[39;49m\u001b[38;5;241;43m.\u001b[39;49m\u001b[43mget_balance_sheet\u001b[49m\u001b[43m(\u001b[49m\u001b[43mpretty\u001b[49m\u001b[38;5;241;43m=\u001b[39;49m\u001b[38;5;28;43;01mTrue\u001b[39;49;00m\u001b[43m)\u001b[49m\n",
      "File \u001b[0;32m~/Downloads/finance/lib/python3.10/site-packages/yfinance/base.py:1168\u001b[0m, in \u001b[0;36mTickerBase.get_balance_sheet\u001b[0;34m(self, proxy, as_dict, pretty, freq, legacy)\u001b[0m\n\u001b[1;32m   1166\u001b[0m     data \u001b[38;5;241m=\u001b[39m \u001b[38;5;28mself\u001b[39m\u001b[38;5;241m.\u001b[39m_fundamentals\u001b[38;5;241m.\u001b[39mfinancials\u001b[38;5;241m.\u001b[39mget_balance_sheet_scrape(freq\u001b[38;5;241m=\u001b[39mfreq, proxy\u001b[38;5;241m=\u001b[39mproxy)\n\u001b[1;32m   1167\u001b[0m \u001b[38;5;28;01melse\u001b[39;00m:\n\u001b[0;32m-> 1168\u001b[0m     data \u001b[38;5;241m=\u001b[39m \u001b[38;5;28;43mself\u001b[39;49m\u001b[38;5;241;43m.\u001b[39;49m\u001b[43m_fundamentals\u001b[49m\u001b[38;5;241;43m.\u001b[39;49m\u001b[43mfinancials\u001b[49m\u001b[38;5;241;43m.\u001b[39;49m\u001b[43mget_balance_sheet_time_series\u001b[49m\u001b[43m(\u001b[49m\u001b[43mfreq\u001b[49m\u001b[38;5;241;43m=\u001b[39;49m\u001b[43mfreq\u001b[49m\u001b[43m,\u001b[49m\u001b[43m \u001b[49m\u001b[43mproxy\u001b[49m\u001b[38;5;241;43m=\u001b[39;49m\u001b[43mproxy\u001b[49m\u001b[43m)\u001b[49m\n\u001b[1;32m   1170\u001b[0m \u001b[38;5;28;01mif\u001b[39;00m pretty:\n\u001b[1;32m   1171\u001b[0m     data \u001b[38;5;241m=\u001b[39m data\u001b[38;5;241m.\u001b[39mcopy()\n",
      "File \u001b[0;32m~/Downloads/finance/lib/python3.10/site-packages/yfinance/scrapers/fundamentals.py:119\u001b[0m, in \u001b[0;36mFinancials.get_balance_sheet_time_series\u001b[0;34m(self, freq, proxy)\u001b[0m\n\u001b[1;32m    117\u001b[0m res \u001b[38;5;241m=\u001b[39m \u001b[38;5;28mself\u001b[39m\u001b[38;5;241m.\u001b[39m_balance_sheet_time_series\n\u001b[1;32m    118\u001b[0m \u001b[38;5;28;01mif\u001b[39;00m freq \u001b[38;5;129;01mnot\u001b[39;00m \u001b[38;5;129;01min\u001b[39;00m res:\n\u001b[0;32m--> 119\u001b[0m     res[freq] \u001b[38;5;241m=\u001b[39m \u001b[38;5;28;43mself\u001b[39;49m\u001b[38;5;241;43m.\u001b[39;49m\u001b[43m_fetch_time_series\u001b[49m\u001b[43m(\u001b[49m\u001b[38;5;124;43m\"\u001b[39;49m\u001b[38;5;124;43mbalance-sheet\u001b[39;49m\u001b[38;5;124;43m\"\u001b[39;49m\u001b[43m,\u001b[49m\u001b[43m \u001b[49m\u001b[43mfreq\u001b[49m\u001b[43m,\u001b[49m\u001b[43m \u001b[49m\u001b[43mproxy\u001b[49m\u001b[38;5;241;43m=\u001b[39;49m\u001b[38;5;28;43;01mNone\u001b[39;49;00m\u001b[43m)\u001b[49m\n\u001b[1;32m    120\u001b[0m \u001b[38;5;28;01mreturn\u001b[39;00m res[freq]\n",
      "File \u001b[0;32m~/Downloads/finance/lib/python3.10/site-packages/yfinance/scrapers/fundamentals.py:142\u001b[0m, in \u001b[0;36mFinancials._fetch_time_series\u001b[0;34m(self, name, timescale, proxy)\u001b[0m\n\u001b[1;32m    139\u001b[0m     \u001b[38;5;28;01mraise\u001b[39;00m \u001b[38;5;167;01mValueError\u001b[39;00m(\u001b[38;5;124m\"\u001b[39m\u001b[38;5;124mIllegal argument: timescale must be one of: \u001b[39m\u001b[38;5;132;01m{}\u001b[39;00m\u001b[38;5;124m\"\u001b[39m\u001b[38;5;241m.\u001b[39mformat(allowed_names))\n\u001b[1;32m    141\u001b[0m \u001b[38;5;28;01mtry\u001b[39;00m:\n\u001b[0;32m--> 142\u001b[0m     statement \u001b[38;5;241m=\u001b[39m \u001b[38;5;28;43mself\u001b[39;49m\u001b[38;5;241;43m.\u001b[39;49m\u001b[43m_create_financials_table\u001b[49m\u001b[43m(\u001b[49m\u001b[43mname\u001b[49m\u001b[43m,\u001b[49m\u001b[43m \u001b[49m\u001b[43mtimescale\u001b[49m\u001b[43m,\u001b[49m\u001b[43m \u001b[49m\u001b[43mproxy\u001b[49m\u001b[43m)\u001b[49m\n\u001b[1;32m    144\u001b[0m     \u001b[38;5;28;01mif\u001b[39;00m statement \u001b[38;5;129;01mis\u001b[39;00m \u001b[38;5;129;01mnot\u001b[39;00m \u001b[38;5;28;01mNone\u001b[39;00m:\n\u001b[1;32m    145\u001b[0m         \u001b[38;5;28;01mreturn\u001b[39;00m statement\n",
      "File \u001b[0;32m~/Downloads/finance/lib/python3.10/site-packages/yfinance/scrapers/fundamentals.py:155\u001b[0m, in \u001b[0;36mFinancials._create_financials_table\u001b[0;34m(self, name, timescale, proxy)\u001b[0m\n\u001b[1;32m    151\u001b[0m \u001b[38;5;28;01mif\u001b[39;00m name \u001b[38;5;241m==\u001b[39m \u001b[38;5;124m\"\u001b[39m\u001b[38;5;124mincome\u001b[39m\u001b[38;5;124m\"\u001b[39m:\n\u001b[1;32m    152\u001b[0m     \u001b[38;5;66;03m# Yahoo stores the 'income' table internally under 'financials' key\u001b[39;00m\n\u001b[1;32m    153\u001b[0m     name \u001b[38;5;241m=\u001b[39m \u001b[38;5;124m\"\u001b[39m\u001b[38;5;124mfinancials\u001b[39m\u001b[38;5;124m\"\u001b[39m\n\u001b[0;32m--> 155\u001b[0m keys \u001b[38;5;241m=\u001b[39m \u001b[38;5;28;43mself\u001b[39;49m\u001b[38;5;241;43m.\u001b[39;49m\u001b[43m_get_datastore_keys\u001b[49m\u001b[43m(\u001b[49m\u001b[43mname\u001b[49m\u001b[43m,\u001b[49m\u001b[43m \u001b[49m\u001b[43mproxy\u001b[49m\u001b[43m)\u001b[49m\n\u001b[1;32m    156\u001b[0m \u001b[38;5;28;01mtry\u001b[39;00m:\n\u001b[1;32m    157\u001b[0m     \u001b[38;5;28;01mreturn\u001b[39;00m \u001b[38;5;28mself\u001b[39m\u001b[38;5;241m.\u001b[39mget_financials_time_series(timescale, keys, proxy)\n",
      "File \u001b[0;32m~/Downloads/finance/lib/python3.10/site-packages/yfinance/scrapers/fundamentals.py:162\u001b[0m, in \u001b[0;36mFinancials._get_datastore_keys\u001b[0;34m(self, sub_page, proxy)\u001b[0m\n\u001b[1;32m    161\u001b[0m \u001b[38;5;28;01mdef\u001b[39;00m \u001b[38;5;21m_get_datastore_keys\u001b[39m(\u001b[38;5;28mself\u001b[39m, sub_page, proxy) \u001b[38;5;241m-\u001b[39m\u001b[38;5;241m>\u001b[39m \u001b[38;5;28mlist\u001b[39m:\n\u001b[0;32m--> 162\u001b[0m     data_stores \u001b[38;5;241m=\u001b[39m \u001b[38;5;28;43mself\u001b[39;49m\u001b[38;5;241;43m.\u001b[39;49m\u001b[43m_data\u001b[49m\u001b[38;5;241;43m.\u001b[39;49m\u001b[43mget_json_data_stores\u001b[49m\u001b[43m(\u001b[49m\u001b[43msub_page\u001b[49m\u001b[43m,\u001b[49m\u001b[43m \u001b[49m\u001b[43mproxy\u001b[49m\u001b[43m)\u001b[49m\n\u001b[1;32m    164\u001b[0m     \u001b[38;5;66;03m# Step 1: get the keys:\u001b[39;00m\n\u001b[1;32m    165\u001b[0m     \u001b[38;5;28;01mdef\u001b[39;00m \u001b[38;5;21m_finditem1\u001b[39m(key, obj):\n",
      "File \u001b[0;32m~/Downloads/finance/lib/python3.10/site-packages/yfinance/data.py:43\u001b[0m, in \u001b[0;36mlru_cache_freezeargs.<locals>.wrapped\u001b[0;34m(*args, **kwargs)\u001b[0m\n\u001b[1;32m     41\u001b[0m args \u001b[38;5;241m=\u001b[39m \u001b[38;5;28mtuple\u001b[39m([\u001b[38;5;28mtuple\u001b[39m(arg) \u001b[38;5;28;01mif\u001b[39;00m \u001b[38;5;28misinstance\u001b[39m(arg, \u001b[38;5;28mlist\u001b[39m) \u001b[38;5;28;01melse\u001b[39;00m arg \u001b[38;5;28;01mfor\u001b[39;00m arg \u001b[38;5;129;01min\u001b[39;00m args])\n\u001b[1;32m     42\u001b[0m kwargs \u001b[38;5;241m=\u001b[39m {k: \u001b[38;5;28mtuple\u001b[39m(v) \u001b[38;5;28;01mif\u001b[39;00m \u001b[38;5;28misinstance\u001b[39m(v, \u001b[38;5;28mlist\u001b[39m) \u001b[38;5;28;01melse\u001b[39;00m v \u001b[38;5;28;01mfor\u001b[39;00m k, v \u001b[38;5;129;01min\u001b[39;00m kwargs\u001b[38;5;241m.\u001b[39mitems()}\n\u001b[0;32m---> 43\u001b[0m \u001b[38;5;28;01mreturn\u001b[39;00m \u001b[43mfunc\u001b[49m\u001b[43m(\u001b[49m\u001b[38;5;241;43m*\u001b[39;49m\u001b[43margs\u001b[49m\u001b[43m,\u001b[49m\u001b[43m \u001b[49m\u001b[38;5;241;43m*\u001b[39;49m\u001b[38;5;241;43m*\u001b[39;49m\u001b[43mkwargs\u001b[49m\u001b[43m)\u001b[49m\n",
      "File \u001b[0;32m~/Downloads/finance/lib/python3.10/site-packages/yfinance/data.py:318\u001b[0m, in \u001b[0;36mTickerData.get_json_data_stores\u001b[0;34m(self, sub_page, proxy)\u001b[0m\n\u001b[1;32m    315\u001b[0m     keys \u001b[38;5;241m+\u001b[39m\u001b[38;5;241m=\u001b[39m response_gh\u001b[38;5;241m.\u001b[39mtext\u001b[38;5;241m.\u001b[39msplitlines()\n\u001b[1;32m    317\u001b[0m \u001b[38;5;66;03m# Decrypt!\u001b[39;00m\n\u001b[0;32m--> 318\u001b[0m stores \u001b[38;5;241m=\u001b[39m \u001b[43mdecrypt_cryptojs_aes_stores\u001b[49m\u001b[43m(\u001b[49m\u001b[43mdata\u001b[49m\u001b[43m,\u001b[49m\u001b[43m \u001b[49m\u001b[43mkeys\u001b[49m\u001b[43m)\u001b[49m\n\u001b[1;32m    319\u001b[0m \u001b[38;5;28;01mif\u001b[39;00m stores \u001b[38;5;129;01mis\u001b[39;00m \u001b[38;5;28;01mNone\u001b[39;00m:\n\u001b[1;32m    320\u001b[0m     \u001b[38;5;66;03m# Maybe Yahoo returned old format, not encrypted\u001b[39;00m\n\u001b[1;32m    321\u001b[0m     \u001b[38;5;28;01mif\u001b[39;00m \u001b[38;5;124m\"\u001b[39m\u001b[38;5;124mcontext\u001b[39m\u001b[38;5;124m\"\u001b[39m \u001b[38;5;129;01min\u001b[39;00m data \u001b[38;5;129;01mand\u001b[39;00m \u001b[38;5;124m\"\u001b[39m\u001b[38;5;124mdispatcher\u001b[39m\u001b[38;5;124m\"\u001b[39m \u001b[38;5;129;01min\u001b[39;00m data[\u001b[38;5;124m\"\u001b[39m\u001b[38;5;124mcontext\u001b[39m\u001b[38;5;124m\"\u001b[39m]:\n",
      "File \u001b[0;32m~/Downloads/finance/lib/python3.10/site-packages/yfinance/data.py:164\u001b[0m, in \u001b[0;36mdecrypt_cryptojs_aes_stores\u001b[0;34m(data, keys)\u001b[0m\n\u001b[1;32m    162\u001b[0m             \u001b[38;5;28;01mpass\u001b[39;00m\n\u001b[1;32m    163\u001b[0m     \u001b[38;5;28;01mif\u001b[39;00m \u001b[38;5;129;01mnot\u001b[39;00m success:\n\u001b[0;32m--> 164\u001b[0m         \u001b[38;5;28;01mraise\u001b[39;00m \u001b[38;5;167;01mException\u001b[39;00m(\u001b[38;5;124m\"\u001b[39m\u001b[38;5;124myfinance failed to decrypt Yahoo data response\u001b[39m\u001b[38;5;124m\"\u001b[39m)\n\u001b[1;32m    166\u001b[0m decoded_stores \u001b[38;5;241m=\u001b[39m json\u001b[38;5;241m.\u001b[39mloads(plaintext)\n\u001b[1;32m    167\u001b[0m \u001b[38;5;28;01mreturn\u001b[39;00m decoded_stores\n",
      "\u001b[0;31mException\u001b[0m: yfinance failed to decrypt Yahoo data response"
     ]
    }
   ],
   "source": [
    "#si.get_income_statement(ticker_name)\n",
    "corp = yf.Ticker(ticker_name)\n",
    "income = corp.balance_sheet"
   ]
  },
  {
   "cell_type": "code",
   "execution_count": null,
   "id": "a1404238",
   "metadata": {},
   "outputs": [],
   "source": [
    "income = income.dropna()\n",
    "income"
   ]
  },
  {
   "cell_type": "code",
   "execution_count": null,
   "id": "776d34d2",
   "metadata": {},
   "outputs": [],
   "source": [
    "income = income.T"
   ]
  },
  {
   "cell_type": "code",
   "execution_count": null,
   "id": "15d7cfb1",
   "metadata": {},
   "outputs": [],
   "source": [
    "income"
   ]
  },
  {
   "cell_type": "markdown",
   "id": "9bc7e33b",
   "metadata": {},
   "source": [
    "#### Getting all valuable entries from Income_Statement #### "
   ]
  },
  {
   "cell_type": "code",
   "execution_count": null,
   "id": "6cc35592",
   "metadata": {},
   "outputs": [],
   "source": [
    "# Sales/Revenue,COGS, EBIT, Interest, Taxes, NetIncome\n",
    "income = income[['totalRevenue','costOfRevenue', 'ebit', 'totalOtherIncomeExpenseNet', 'incomeBeforeTax','incomeTaxExpense', 'netIncome']]#, axis=1 )\n",
    "income"
   ]
  },
  {
   "cell_type": "code",
   "execution_count": null,
   "id": "03c26585",
   "metadata": {},
   "outputs": [],
   "source": [
    "income"
   ]
  },
  {
   "cell_type": "markdown",
   "id": "905eacc5",
   "metadata": {},
   "source": [
    "#### Updating Column Names ####"
   ]
  },
  {
   "cell_type": "code",
   "execution_count": null,
   "id": "2ab70c72",
   "metadata": {},
   "outputs": [],
   "source": [
    "income.columns = ['TotalRevenue','COGS', 'EBIT', 'Interest', 'IncomeBeforeTax',\n",
    "       'IncomeTaxExpense', 'NetIncome']\n",
    "income"
   ]
  },
  {
   "cell_type": "code",
   "execution_count": null,
   "id": "fa124cef",
   "metadata": {},
   "outputs": [],
   "source": [
    "data = yf.Ticker(ticker_name)"
   ]
  },
  {
   "cell_type": "code",
   "execution_count": null,
   "id": "4a3b7705",
   "metadata": {},
   "outputs": [],
   "source": [
    "balance = data.balance_sheet"
   ]
  },
  {
   "cell_type": "code",
   "execution_count": null,
   "id": "0bb46269",
   "metadata": {},
   "outputs": [],
   "source": [
    "#balance = balance.dropna()\n",
    "balance.index\n",
    "balance"
   ]
  },
  {
   "cell_type": "code",
   "execution_count": null,
   "id": "e3d6c60c",
   "metadata": {},
   "outputs": [],
   "source": [
    "balance = balance.T"
   ]
  },
  {
   "cell_type": "code",
   "execution_count": null,
   "id": "c25788f4",
   "metadata": {},
   "outputs": [],
   "source": [
    "# current assets, current liability, inventory\n",
    "# Account Receivable, Net Fixed Assets, debt\n",
    "# Total Assets, Total Liability, Total Stockholder Equity\n",
    "balance = balance[['Inventory','Net Receivables','Cash','Total Current Assets',\\\n",
    "                   'Short Long Term Debt', 'Long Term Debt','Net Tangible Assets','Total Assets'\\\n",
    "                  ,'Total Current Liabilities', 'Total Liab','Total Stockholder Equity']]"
   ]
  },
  {
   "cell_type": "code",
   "execution_count": null,
   "id": "4733a9cf",
   "metadata": {},
   "outputs": [],
   "source": [
    "balance.columns"
   ]
  },
  {
   "cell_type": "markdown",
   "id": "3908b6f0",
   "metadata": {},
   "source": [
    "#### Balance sheet data captured ####"
   ]
  },
  {
   "cell_type": "markdown",
   "id": "99ee2611",
   "metadata": {},
   "source": [
    "# current assets, current liability, inventory\n",
    "# Account Receivable, Net Fixed Assets\n",
    "# Total Assets, Total Liability, Common Equity\n",
    "\n",
    "balance = balance[['Total Current Assets','Total Current Liabilities',\\\n",
    "                  'Inventory','Net Receivables','Net Tangible Assets',\\\n",
    "                   'Total Assets', 'Total Liab', 'Total Stockholder Equity'\n",
    "                  ]]"
   ]
  },
  {
   "cell_type": "code",
   "execution_count": null,
   "id": "1fb52885",
   "metadata": {},
   "outputs": [],
   "source": [
    "balance"
   ]
  },
  {
   "cell_type": "code",
   "execution_count": null,
   "id": "268a5b86",
   "metadata": {},
   "outputs": [],
   "source": [
    "pd.set_option('display.max_columns', 5000)"
   ]
  },
  {
   "cell_type": "code",
   "execution_count": null,
   "id": "bcef86ca",
   "metadata": {},
   "outputs": [],
   "source": [
    "d1 = pd.concat([balance, income], axis=1)"
   ]
  },
  {
   "cell_type": "code",
   "execution_count": null,
   "id": "63e01645",
   "metadata": {},
   "outputs": [],
   "source": [
    "d1"
   ]
  },
  {
   "cell_type": "markdown",
   "id": "b4c9da95",
   "metadata": {},
   "source": [
    "d1.isna().sum()\n",
    "\n"
   ]
  },
  {
   "cell_type": "code",
   "execution_count": null,
   "id": "50a59a52",
   "metadata": {},
   "outputs": [],
   "source": [
    "ratio = pd.DataFrame()"
   ]
  },
  {
   "cell_type": "code",
   "execution_count": null,
   "id": "3dc51fa4",
   "metadata": {},
   "outputs": [],
   "source": [
    "# Quick Ratio = Current Assets/Current Liabilities\n",
    "ratio['Current Ratio'] = d1['Total Current Assets']/d1['Total Current Liabilities']\n",
    "ratio"
   ]
  },
  {
   "cell_type": "code",
   "execution_count": null,
   "id": "e4fe3e57",
   "metadata": {},
   "outputs": [],
   "source": [
    "# Quick Ratio = [Current Assets - Inventory]/ Current Liability\n",
    "ratio['Quick Ratio'] = (d1['Total Current Assets'] - d1['Inventory'])/d1['Total Current Liabilities']\n",
    "ratio"
   ]
  },
  {
   "cell_type": "code",
   "execution_count": null,
   "id": "4ad92ec7",
   "metadata": {},
   "outputs": [],
   "source": [
    "# Duration of Sales Operation\n",
    "ratio['DSO'] = d1['Net Receivables']/(d1['TotalRevenue']/365)\n",
    "ratio"
   ]
  },
  {
   "cell_type": "code",
   "execution_count": null,
   "id": "f1ee7a9e",
   "metadata": {},
   "outputs": [],
   "source": [
    "#Inventory Turnover\n",
    "ratio['Inventory Turnover'] = d1['COGS']/d1['Inventory']\n",
    "ratio"
   ]
  },
  {
   "cell_type": "code",
   "execution_count": null,
   "id": "800c0332",
   "metadata": {},
   "outputs": [],
   "source": [
    "# Total Assets Turnover\n",
    "ratio['Total Assets Turnover'] = d1['TotalRevenue']/d1['Total Assets']\n",
    "ratio"
   ]
  },
  {
   "cell_type": "code",
   "execution_count": null,
   "id": "a35810fa",
   "metadata": {},
   "outputs": [],
   "source": [
    "# Debt Ratio = (Short Long Term Deb + Long Term Debt + notes payable)/  Short Long Term Deb \\\n",
    "#+ Long Term Debt + notes payable+ common equity\n",
    "# debt/debt+equity\n",
    "d1['Debt'] = d1['Short Long Term Debt'] + d1['Long Term Debt']\n",
    "ratio['Debt Ratio'] = d1['Debt']/(d1['Debt'] + d1['Total Stockholder Equity'])\n",
    "ratio"
   ]
  },
  {
   "cell_type": "code",
   "execution_count": null,
   "id": "7692ca45",
   "metadata": {},
   "outputs": [],
   "source": [
    "d1"
   ]
  },
  {
   "cell_type": "code",
   "execution_count": null,
   "id": "addb16a9",
   "metadata": {},
   "outputs": [],
   "source": [
    "# Times Interest Earned = EBIT/Interest\n",
    "ratio['TIE'] = d1['EBIT']/d1['Interest']\n",
    "ratio"
   ]
  },
  {
   "cell_type": "code",
   "execution_count": null,
   "id": "04684fc3",
   "metadata": {},
   "outputs": [],
   "source": [
    "#Gross Profit Margin = EBIT/Sales\n",
    "ratio['GPM%'] = 100*d1['EBIT']/d1['TotalRevenue']\n",
    "ratio"
   ]
  },
  {
   "cell_type": "code",
   "execution_count": null,
   "id": "81f657ed",
   "metadata": {},
   "outputs": [],
   "source": [
    "#Net Profit Margin = net profit/Sales\n",
    "ratio['NPM%'] = 100*d1['NetIncome']/d1['TotalRevenue']\n",
    "ratio"
   ]
  },
  {
   "cell_type": "code",
   "execution_count": null,
   "id": "2c9d0304",
   "metadata": {},
   "outputs": [],
   "source": [
    "# Return on Total Assets = NetIncome/Assets\n",
    "ratio['ROA%'] = 100*d1['NetIncome']/d1['Total Assets']\n",
    "ratio"
   ]
  },
  {
   "cell_type": "code",
   "execution_count": null,
   "id": "2abd1e4b",
   "metadata": {},
   "outputs": [],
   "source": [
    "#DuPont Analysis ROE = Net Profit/Common Equity\n",
    "ratio['ROE%'] = 100*d1['NetIncome']/d1['Total Stockholder Equity']\n",
    "ratio"
   ]
  },
  {
   "cell_type": "code",
   "execution_count": null,
   "id": "48fd4a3d",
   "metadata": {},
   "outputs": [],
   "source": [
    "ratio"
   ]
  },
  {
   "cell_type": "code",
   "execution_count": null,
   "id": "eed5848e",
   "metadata": {},
   "outputs": [],
   "source": [
    "ratio.style.set_caption(ticker_name)"
   ]
  },
  {
   "cell_type": "code",
   "execution_count": null,
   "id": "8673757e",
   "metadata": {},
   "outputs": [],
   "source": [
    "ratio = ratio.T\n",
    "ratio"
   ]
  },
  {
   "cell_type": "code",
   "execution_count": null,
   "id": "3af94b84",
   "metadata": {},
   "outputs": [],
   "source": [
    "ratio.index.name = (\"year-\"+ ticker_name)"
   ]
  },
  {
   "cell_type": "code",
   "execution_count": null,
   "id": "7408e45a",
   "metadata": {},
   "outputs": [],
   "source": [
    "csv_name = 'ratio_grocery.csv'"
   ]
  },
  {
   "cell_type": "code",
   "execution_count": null,
   "id": "97b645e0",
   "metadata": {},
   "outputs": [],
   "source": [
    "ratio.to_csv(csv_name, mode='a') #, header= False)"
   ]
  },
  {
   "cell_type": "code",
   "execution_count": 4,
   "id": "628026dc",
   "metadata": {},
   "outputs": [],
   "source": [
    "csv_name = \"ratio_combine.csv\""
   ]
  },
  {
   "cell_type": "code",
   "execution_count": 5,
   "id": "783d8587",
   "metadata": {},
   "outputs": [
    {
     "name": "stdout",
     "output_type": "stream",
     "text": [
      "                  year-KR       1/29/22       1/30/21        2/1/20  \\\n",
      "0           Current Ratio   0.745818783   0.813679552   0.764586112   \n",
      "1             Quick Ratio   0.330270171   0.354028374   0.267218985   \n",
      "2                     DSO   4.838854723      4.906225   5.092079224   \n",
      "3      Inventory Turnover   15.70912576   14.25867195   13.33145116   \n",
      "4   Total Assets Turnover   2.809110541   2.722822736    2.70209475   \n",
      "5              Debt Ratio   0.554087843   0.564450105   0.606801664   \n",
      "6                     TIE  -2.237032569   16.64397906  -3.866859624   \n",
      "7                    GPM%   2.689864238   2.399281499   2.185041624   \n",
      "8                    NPM%   1.200249478   1.950972845   1.356655709   \n",
      "9                    ROA%    3.37163346    5.31215322   3.665812268   \n",
      "10                   ROE%   17.50952179   26.99456976   19.28621251   \n",
      "11               year-WMT       1/31/22       1/31/21       1/31/20   \n",
      "12          Current Ratio   0.927797297    0.97217335   0.794523718   \n",
      "13            Quick Ratio   0.281062956   0.486998759   0.223306338   \n",
      "14                    DSO   5.276610901     4.2534843   4.377514486   \n",
      "15     Inventory Turnover   7.591442374   9.350931055   8.880499606   \n",
      "16  Total Assets Turnover   2.339108062   2.214494487   2.215539441   \n",
      "17             Debt Ratio   0.317682252   0.355836279   0.399964642   \n",
      "18                    TIE  -3.580182169  -4.221177945  -15.87869822   \n",
      "19                   GPM%   4.529344186   4.819449487   4.097228054   \n",
      "20                   NPM%   2.387237802   2.416163076   2.840080616   \n",
      "21                   ROA%   5.584007188   5.350579811    6.29231062   \n",
      "22                   ROE%   16.42343219   16.69447019   19.92928792   \n",
      "23              year-COST       8/28/22       8/29/21       8/30/20   \n",
      "24          Current Ratio   1.021813863   1.002173839   1.131862824   \n",
      "25            Quick Ratio   0.462185137   0.519343772   0.639108034   \n",
      "26                    DSO    3.60410039   3.358844275     3.3925798   \n",
      "27     Inventory Turnover   11.13430502   12.00731622   11.83948701   \n",
      "28  Total Assets Turnover   3.536982202   3.305814267   3.001673987   \n",
      "29             Debt Ratio    0.24107504   0.298982239   0.293863206   \n",
      "30                    TIE   165.8085106  -13.30202578  -79.92647059   \n",
      "31                   GPM%   3.433735471   3.686539512   3.259155318   \n",
      "32                   NPM%    2.57497114    2.55551756    2.39984169   \n",
      "33                   ROA%   9.107627092    8.44806641   7.203542372   \n",
      "34                   ROE%   28.31121015   28.50717376    21.8879895   \n",
      "35               year-TGT       1/29/22       1/30/21        2/1/20   \n",
      "36          Current Ratio   0.991998896   1.031354037   0.890591565   \n",
      "37            Quick Ratio   0.352738309   0.502012422   0.269897149   \n",
      "38                    DSO   4.658695345   4.427859899   4.495212003   \n",
      "39     Inventory Turnover    5.39224572   6.190838262   6.101423488   \n",
      "40  Total Assets Turnover   1.969950382   1.825651733   1.825942635   \n",
      "41             Debt Ratio   0.475849951   0.428480963   0.461205719   \n",
      "42                    TIE  -58.46451613  -5.305900621  -8.788104089   \n",
      "43                   GPM%   8.548653365    7.30432552   6.052847194   \n",
      "44                   NPM%   6.552521107   4.668611922   4.200378943   \n",
      "45                   ROA%   12.90814146   8.523259444   7.669650997   \n",
      "46                   ROE%   54.15139939   30.24930748   27.72754162   \n",
      "\n",
      "          2/2/19  Unnamed: 5                                Remarks  \\\n",
      "0    0.756830601         NaN                Remains nearly the same   \n",
      "1    0.277217318         NaN                        assets improved   \n",
      "2    4.759749532         NaN                 Fast recovery of money   \n",
      "3    13.78191645         NaN                 Good inventory restock   \n",
      "4    3.196704969         NaN                               Moderate   \n",
      "5    0.645365832         NaN                                   High   \n",
      "6    2.057647963         NaN                               Improved   \n",
      "7     2.19692742         NaN                       Improved but low   \n",
      "8    2.552276532         NaN                      Reduced, very low   \n",
      "9    8.158875072         NaN                                Reduced   \n",
      "10   39.43697692         NaN                        Decreased, poor   \n",
      "11       1/31/19         NaN                                    NaN   \n",
      "12   0.798908063         NaN  Over a period its assets has improved   \n",
      "13   0.227525588         NaN       Large inventory over recent year   \n",
      "14   4.458150679         NaN                 Fast recovery of money   \n",
      "15    8.70363008         NaN             Moderate inventory restock   \n",
      "16   2.345721517         NaN                                    low   \n",
      "17   0.387288709         NaN                     Debt usage reduced   \n",
      "18  -2.091740497         NaN                                   Good   \n",
      "19   4.268426629         NaN       Remains nearly the same, average   \n",
      "20   1.296643695         NaN                           Reduced, low   \n",
      "21   3.041565015         NaN                        Increased, good   \n",
      "22   9.200507614         NaN                        Decreased, poor   \n",
      "23        9/1/19         NaN                                    NaN   \n",
      "24   1.010672634         NaN                       Excellent assets   \n",
      "25   0.520290915         NaN       Large inventory over recent year   \n",
      "26   3.669050379         NaN                 Fast recovery of money   \n",
      "27   11.66178148         NaN             Moderate inventory restock   \n",
      "28   3.363502203         NaN                                   Good   \n",
      "29   0.309208737         NaN                     Debt usage reduced   \n",
      "30   169.1785714         NaN                                   Good   \n",
      "31   3.102100155         NaN                           Reduced, low   \n",
      "32   2.396154627         NaN                           Reduced, low   \n",
      "33   8.059471366         NaN                   Increased, very good   \n",
      "34   24.00446106         NaN                   remain same, average   \n",
      "35        2/2/19         NaN                                    NaN   \n",
      "36   0.833821766         NaN                       Excellent assets   \n",
      "37   0.201278806         NaN                        assets improved   \n",
      "38    5.32804289         NaN                 Fast recovery of money   \n",
      "39   5.612193324         NaN                 Poor inventory restock   \n",
      "40   1.825042383         NaN                                   poor   \n",
      "41   0.475874548         NaN                                   High   \n",
      "42  -7.671506352         NaN                              Very Good   \n",
      "43   5.609374171         NaN                               Improved   \n",
      "44   3.897499867         NaN                        Increased, good   \n",
      "45   7.113102446         NaN                   Increased, very good   \n",
      "46   25.99805258         NaN                   Increased, very good   \n",
      "\n",
      "             AVG  \n",
      "0       0.770229  \n",
      "1       0.307184  \n",
      "2       4.899227  \n",
      "3      14.270291  \n",
      "4       2.857683  \n",
      "5       0.592676  \n",
      "6       3.149434  \n",
      "7       2.367779  \n",
      "8       1.765039  \n",
      "9       5.127119  \n",
      "10     25.806820  \n",
      "11  44044.000000  \n",
      "12      0.873351  \n",
      "13      0.304723  \n",
      "14      4.591440  \n",
      "15      8.631626  \n",
      "16      2.278716  \n",
      "17      0.365193  \n",
      "18     -6.442950  \n",
      "19      4.428612  \n",
      "20      2.235031  \n",
      "21      5.067116  \n",
      "22     15.561924  \n",
      "23  44255.000000  \n",
      "24      1.041631  \n",
      "25      0.535232  \n",
      "26      3.506144  \n",
      "27     11.660722  \n",
      "28      3.301993  \n",
      "29      0.285782  \n",
      "30     60.439646  \n",
      "31      3.370383  \n",
      "32      2.481621  \n",
      "33      8.204677  \n",
      "34     25.677709  \n",
      "35  44044.000000  \n",
      "36      0.936942  \n",
      "37      0.331482  \n",
      "38      4.727453  \n",
      "39      5.824175  \n",
      "40      1.861647  \n",
      "41      0.460353  \n",
      "42    -20.057507  \n",
      "43      6.878800  \n",
      "44      4.829753  \n",
      "45      9.053539  \n",
      "46     34.531575  \n"
     ]
    }
   ],
   "source": [
    "df = pd.read_csv(csv_name)\n",
    "print(df)"
   ]
  },
  {
   "cell_type": "code",
   "execution_count": null,
   "id": "5e1e6947",
   "metadata": {},
   "outputs": [],
   "source": []
  }
 ],
 "metadata": {
  "kernelspec": {
   "display_name": "Python 3 (ipykernel)",
   "language": "python",
   "name": "python3"
  },
  "language_info": {
   "codemirror_mode": {
    "name": "ipython",
    "version": 3
   },
   "file_extension": ".py",
   "mimetype": "text/x-python",
   "name": "python",
   "nbconvert_exporter": "python",
   "pygments_lexer": "ipython3",
   "version": "3.10.8"
  }
 },
 "nbformat": 4,
 "nbformat_minor": 5
}
